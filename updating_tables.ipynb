{
 "metadata": {
  "language_info": {
   "codemirror_mode": {
    "name": "ipython",
    "version": 3
   },
   "file_extension": ".py",
   "mimetype": "text/x-python",
   "name": "python",
   "nbconvert_exporter": "python",
   "pygments_lexer": "ipython3",
   "version": "3.8.3-final"
  },
  "orig_nbformat": 2,
  "kernelspec": {
   "name": "python3",
   "display_name": "Python 3"
  }
 },
 "nbformat": 4,
 "nbformat_minor": 2,
 "cells": [
  {
   "cell_type": "code",
   "execution_count": 1,
   "metadata": {},
   "outputs": [],
   "source": [
    "import pandas as pd\n",
    "import sqlite3\n"
   ]
  },
  {
   "cell_type": "code",
   "execution_count": 3,
   "metadata": {},
   "outputs": [],
   "source": [
    "books = pd.read_excel(\"/Users/gregmartinez/Desktop/projects/Projects/books/2020 Books.xlsx\", dtype=\"object\")"
   ]
  },
  {
   "cell_type": "code",
   "execution_count": 4,
   "metadata": {},
   "outputs": [
    {
     "output_type": "execute_result",
     "data": {
      "text/plain": [
       "                                                Title  \\\n",
       "0                 The Burning White (Lightbringer #5)   \n",
       "1   Generation Decks: The Unofficial History of Ma...   \n",
       "2          The Art of Magic: The Gathering - Zendikar   \n",
       "3   Next Level Magic: A Guide to Mastering Magic T...   \n",
       "4   Next Level Deckbuilding: The Ultimate Magic th...   \n",
       "..                                                ...   \n",
       "86                                  Vi iMproved (VIM)   \n",
       "87  Design Patterns: Elements of Reusable Object-O...   \n",
       "88  Refactoring: Improving the Design of Existing ...   \n",
       "89                             The Mythical Man-Month   \n",
       "90                                     Coders at Work   \n",
       "\n",
       "                                               Author Date Finished  \\\n",
       "0                                         Brent Weeks    2020-01-09   \n",
       "1                                         Titus Chalk    2020-01-12   \n",
       "2                                         James Wyatt    2020-01-31   \n",
       "3                                      Patrick Chapin    2020-02-02   \n",
       "4                                      Patrick Chapin    2020-02-10   \n",
       "..                                                ...           ...   \n",
       "86                                     Steve Qualline           NaT   \n",
       "87  Erich Gamma; Richard Helm; Ralph Johnson; John...           NaT   \n",
       "88                                      Martin Fowler    2020-10-30   \n",
       "89                                    Fredrick Brooks    2020-11-04   \n",
       "90                                       Peter Seibel           NaT   \n",
       "\n",
       "   Date Started DNF? Re-Read?                      Imprint  Publishing House  \\\n",
       "0           NaT  NaN      NaN                        Orbit          Hachette   \n",
       "1           NaT  NaN      NaN                      Solaris         Rebellion   \n",
       "2           NaT  NaN      NaN               Perfect Square         Viz Media   \n",
       "3    2020-01-29  NaN      NaN              Star City Games   Star City Games   \n",
       "4    2020-01-31  NaN      NaN              Star City Games   Star City Games   \n",
       "..          ...  ...      ...                          ...               ...   \n",
       "86          NaT    X      NaN             Sam's Publishing  Sam's Publishing   \n",
       "87          NaT  NaN      NaN  Addison-Wesley Professional    Addison-Wesley   \n",
       "88   2020-10-25  NaN      NaN  Addison-Wesley Professional    Addison-Wesley   \n",
       "89   2020-10-30  NaN      NaN               Addison-Wesley    Addison-Wesley   \n",
       "90   2020-11-05  NaN      NaN                       Apress            Apress   \n",
       "\n",
       "   Pub Year F/NF  ... Rating Days to Complete Reading Speed (Pages/Day)  \\\n",
       "0      2019    F  ...      4              NaN                       NaN   \n",
       "1      2017   NF  ...      5              NaN                       NaN   \n",
       "2      2016    F  ...      4              NaN                       NaN   \n",
       "3      2015   NF  ...      3                5                      87.6   \n",
       "4      2017   NF  ...      3               11                   49.4545   \n",
       "..      ...  ...  ...    ...              ...                       ...   \n",
       "86     2001   NF  ...    NaN              NaN                       NaN   \n",
       "87     1994   NF  ...    NaN              NaN                       NaN   \n",
       "88     2018   NF  ...    NaN                6                   74.6667   \n",
       "89     1995   NF  ...      3                6                   48.6667   \n",
       "90     2009   NF  ...    NaN              NaN                       NaN   \n",
       "\n",
       "   Listening Speed (Hours/Day)                   Genre Read Harder 2020  \\\n",
       "0                          NaN        Sci-Fi / Fantasy                9   \n",
       "1                          NaN                  Gaming              NaN   \n",
       "2                          NaN      Art / Coffee Table              NaN   \n",
       "3                          NaN                  Gaming              NaN   \n",
       "4                          NaN                  Gaming              NaN   \n",
       "..                         ...                     ...              ...   \n",
       "86                         NaN  Programming / Comp Sci              NaN   \n",
       "87                         NaN  Programming / Comp Sci              NaN   \n",
       "88                         NaN  Programming / Comp Sci              NaN   \n",
       "89                         NaN  Programming / Comp Sci              NaN   \n",
       "90                         NaN  Programming / Comp Sci              NaN   \n",
       "\n",
       "   Reason for Reading Narrator Illustrator Translator  \n",
       "0                 Fun      NaN         NaN        NaN  \n",
       "1                 Fun      NaN         NaN        NaN  \n",
       "2                 Fun      NaN         NaN        NaN  \n",
       "3                 Fun      NaN         NaN        NaN  \n",
       "4                 Fun      NaN         NaN        NaN  \n",
       "..                ...      ...         ...        ...  \n",
       "86   Self-Improvement      NaN         NaN        NaN  \n",
       "87   Self-Improvement      NaN         NaN        NaN  \n",
       "88   Self-Improvement      NaN         NaN        NaN  \n",
       "89   Self-Improvement      NaN         NaN        NaN  \n",
       "90   Self-Improvement      NaN         NaN        NaN  \n",
       "\n",
       "[91 rows x 25 columns]"
      ],
      "text/html": "<div>\n<style scoped>\n    .dataframe tbody tr th:only-of-type {\n        vertical-align: middle;\n    }\n\n    .dataframe tbody tr th {\n        vertical-align: top;\n    }\n\n    .dataframe thead th {\n        text-align: right;\n    }\n</style>\n<table border=\"1\" class=\"dataframe\">\n  <thead>\n    <tr style=\"text-align: right;\">\n      <th></th>\n      <th>Title</th>\n      <th>Author</th>\n      <th>Date Finished</th>\n      <th>Date Started</th>\n      <th>DNF?</th>\n      <th>Re-Read?</th>\n      <th>Imprint</th>\n      <th>Publishing House</th>\n      <th>Pub Year</th>\n      <th>F/NF</th>\n      <th>...</th>\n      <th>Rating</th>\n      <th>Days to Complete</th>\n      <th>Reading Speed (Pages/Day)</th>\n      <th>Listening Speed (Hours/Day)</th>\n      <th>Genre</th>\n      <th>Read Harder 2020</th>\n      <th>Reason for Reading</th>\n      <th>Narrator</th>\n      <th>Illustrator</th>\n      <th>Translator</th>\n    </tr>\n  </thead>\n  <tbody>\n    <tr>\n      <th>0</th>\n      <td>The Burning White (Lightbringer #5)</td>\n      <td>Brent Weeks</td>\n      <td>2020-01-09</td>\n      <td>NaT</td>\n      <td>NaN</td>\n      <td>NaN</td>\n      <td>Orbit</td>\n      <td>Hachette</td>\n      <td>2019</td>\n      <td>F</td>\n      <td>...</td>\n      <td>4</td>\n      <td>NaN</td>\n      <td>NaN</td>\n      <td>NaN</td>\n      <td>Sci-Fi / Fantasy</td>\n      <td>9</td>\n      <td>Fun</td>\n      <td>NaN</td>\n      <td>NaN</td>\n      <td>NaN</td>\n    </tr>\n    <tr>\n      <th>1</th>\n      <td>Generation Decks: The Unofficial History of Ma...</td>\n      <td>Titus Chalk</td>\n      <td>2020-01-12</td>\n      <td>NaT</td>\n      <td>NaN</td>\n      <td>NaN</td>\n      <td>Solaris</td>\n      <td>Rebellion</td>\n      <td>2017</td>\n      <td>NF</td>\n      <td>...</td>\n      <td>5</td>\n      <td>NaN</td>\n      <td>NaN</td>\n      <td>NaN</td>\n      <td>Gaming</td>\n      <td>NaN</td>\n      <td>Fun</td>\n      <td>NaN</td>\n      <td>NaN</td>\n      <td>NaN</td>\n    </tr>\n    <tr>\n      <th>2</th>\n      <td>The Art of Magic: The Gathering - Zendikar</td>\n      <td>James Wyatt</td>\n      <td>2020-01-31</td>\n      <td>NaT</td>\n      <td>NaN</td>\n      <td>NaN</td>\n      <td>Perfect Square</td>\n      <td>Viz Media</td>\n      <td>2016</td>\n      <td>F</td>\n      <td>...</td>\n      <td>4</td>\n      <td>NaN</td>\n      <td>NaN</td>\n      <td>NaN</td>\n      <td>Art / Coffee Table</td>\n      <td>NaN</td>\n      <td>Fun</td>\n      <td>NaN</td>\n      <td>NaN</td>\n      <td>NaN</td>\n    </tr>\n    <tr>\n      <th>3</th>\n      <td>Next Level Magic: A Guide to Mastering Magic T...</td>\n      <td>Patrick Chapin</td>\n      <td>2020-02-02</td>\n      <td>2020-01-29</td>\n      <td>NaN</td>\n      <td>NaN</td>\n      <td>Star City Games</td>\n      <td>Star City Games</td>\n      <td>2015</td>\n      <td>NF</td>\n      <td>...</td>\n      <td>3</td>\n      <td>5</td>\n      <td>87.6</td>\n      <td>NaN</td>\n      <td>Gaming</td>\n      <td>NaN</td>\n      <td>Fun</td>\n      <td>NaN</td>\n      <td>NaN</td>\n      <td>NaN</td>\n    </tr>\n    <tr>\n      <th>4</th>\n      <td>Next Level Deckbuilding: The Ultimate Magic th...</td>\n      <td>Patrick Chapin</td>\n      <td>2020-02-10</td>\n      <td>2020-01-31</td>\n      <td>NaN</td>\n      <td>NaN</td>\n      <td>Star City Games</td>\n      <td>Star City Games</td>\n      <td>2017</td>\n      <td>NF</td>\n      <td>...</td>\n      <td>3</td>\n      <td>11</td>\n      <td>49.4545</td>\n      <td>NaN</td>\n      <td>Gaming</td>\n      <td>NaN</td>\n      <td>Fun</td>\n      <td>NaN</td>\n      <td>NaN</td>\n      <td>NaN</td>\n    </tr>\n    <tr>\n      <th>...</th>\n      <td>...</td>\n      <td>...</td>\n      <td>...</td>\n      <td>...</td>\n      <td>...</td>\n      <td>...</td>\n      <td>...</td>\n      <td>...</td>\n      <td>...</td>\n      <td>...</td>\n      <td>...</td>\n      <td>...</td>\n      <td>...</td>\n      <td>...</td>\n      <td>...</td>\n      <td>...</td>\n      <td>...</td>\n      <td>...</td>\n      <td>...</td>\n      <td>...</td>\n      <td>...</td>\n    </tr>\n    <tr>\n      <th>86</th>\n      <td>Vi iMproved (VIM)</td>\n      <td>Steve Qualline</td>\n      <td>NaT</td>\n      <td>NaT</td>\n      <td>X</td>\n      <td>NaN</td>\n      <td>Sam's Publishing</td>\n      <td>Sam's Publishing</td>\n      <td>2001</td>\n      <td>NF</td>\n      <td>...</td>\n      <td>NaN</td>\n      <td>NaN</td>\n      <td>NaN</td>\n      <td>NaN</td>\n      <td>Programming / Comp Sci</td>\n      <td>NaN</td>\n      <td>Self-Improvement</td>\n      <td>NaN</td>\n      <td>NaN</td>\n      <td>NaN</td>\n    </tr>\n    <tr>\n      <th>87</th>\n      <td>Design Patterns: Elements of Reusable Object-O...</td>\n      <td>Erich Gamma; Richard Helm; Ralph Johnson; John...</td>\n      <td>NaT</td>\n      <td>NaT</td>\n      <td>NaN</td>\n      <td>NaN</td>\n      <td>Addison-Wesley Professional</td>\n      <td>Addison-Wesley</td>\n      <td>1994</td>\n      <td>NF</td>\n      <td>...</td>\n      <td>NaN</td>\n      <td>NaN</td>\n      <td>NaN</td>\n      <td>NaN</td>\n      <td>Programming / Comp Sci</td>\n      <td>NaN</td>\n      <td>Self-Improvement</td>\n      <td>NaN</td>\n      <td>NaN</td>\n      <td>NaN</td>\n    </tr>\n    <tr>\n      <th>88</th>\n      <td>Refactoring: Improving the Design of Existing ...</td>\n      <td>Martin Fowler</td>\n      <td>2020-10-30</td>\n      <td>2020-10-25</td>\n      <td>NaN</td>\n      <td>NaN</td>\n      <td>Addison-Wesley Professional</td>\n      <td>Addison-Wesley</td>\n      <td>2018</td>\n      <td>NF</td>\n      <td>...</td>\n      <td>NaN</td>\n      <td>6</td>\n      <td>74.6667</td>\n      <td>NaN</td>\n      <td>Programming / Comp Sci</td>\n      <td>NaN</td>\n      <td>Self-Improvement</td>\n      <td>NaN</td>\n      <td>NaN</td>\n      <td>NaN</td>\n    </tr>\n    <tr>\n      <th>89</th>\n      <td>The Mythical Man-Month</td>\n      <td>Fredrick Brooks</td>\n      <td>2020-11-04</td>\n      <td>2020-10-30</td>\n      <td>NaN</td>\n      <td>NaN</td>\n      <td>Addison-Wesley</td>\n      <td>Addison-Wesley</td>\n      <td>1995</td>\n      <td>NF</td>\n      <td>...</td>\n      <td>3</td>\n      <td>6</td>\n      <td>48.6667</td>\n      <td>NaN</td>\n      <td>Programming / Comp Sci</td>\n      <td>NaN</td>\n      <td>Self-Improvement</td>\n      <td>NaN</td>\n      <td>NaN</td>\n      <td>NaN</td>\n    </tr>\n    <tr>\n      <th>90</th>\n      <td>Coders at Work</td>\n      <td>Peter Seibel</td>\n      <td>NaT</td>\n      <td>2020-11-05</td>\n      <td>NaN</td>\n      <td>NaN</td>\n      <td>Apress</td>\n      <td>Apress</td>\n      <td>2009</td>\n      <td>NF</td>\n      <td>...</td>\n      <td>NaN</td>\n      <td>NaN</td>\n      <td>NaN</td>\n      <td>NaN</td>\n      <td>Programming / Comp Sci</td>\n      <td>NaN</td>\n      <td>Self-Improvement</td>\n      <td>NaN</td>\n      <td>NaN</td>\n      <td>NaN</td>\n    </tr>\n  </tbody>\n</table>\n<p>91 rows × 25 columns</p>\n</div>"
     },
     "metadata": {},
     "execution_count": 4
    }
   ],
   "source": [
    "books"
   ]
  },
  {
   "cell_type": "code",
   "execution_count": 5,
   "metadata": {},
   "outputs": [
    {
     "output_type": "execute_result",
     "data": {
      "text/plain": [
       "0                                           Brent Weeks\n",
       "1                                           Titus Chalk\n",
       "2                                           James Wyatt\n",
       "3                                        Patrick Chapin\n",
       "4                                        Patrick Chapin\n",
       "                            ...                        \n",
       "86                                       Steve Qualline\n",
       "87    Erich Gamma; Richard Helm; Ralph Johnson; John...\n",
       "88                                        Martin Fowler\n",
       "89                                      Fredrick Brooks\n",
       "90                                         Peter Seibel\n",
       "Name: Author, Length: 91, dtype: object"
      ]
     },
     "metadata": {},
     "execution_count": 5
    }
   ],
   "source": [
    "books[\"Author\"]"
   ]
  },
  {
   "cell_type": "code",
   "execution_count": 6,
   "metadata": {},
   "outputs": [
    {
     "output_type": "execute_result",
     "data": {
      "text/plain": [
       "0                   The Burning White (Lightbringer #5)\n",
       "1     Generation Decks: The Unofficial History of Ma...\n",
       "2            The Art of Magic: The Gathering - Zendikar\n",
       "3     Next Level Magic: A Guide to Mastering Magic T...\n",
       "4     Next Level Deckbuilding: The Ultimate Magic th...\n",
       "                            ...                        \n",
       "86                                    Vi iMproved (VIM)\n",
       "87    Design Patterns: Elements of Reusable Object-O...\n",
       "88    Refactoring: Improving the Design of Existing ...\n",
       "89                               The Mythical Man-Month\n",
       "90                                       Coders at Work\n",
       "Name: Title, Length: 91, dtype: object"
      ]
     },
     "metadata": {},
     "execution_count": 6
    }
   ],
   "source": [
    "books[\"Title\"]"
   ]
  },
  {
   "cell_type": "code",
   "execution_count": 10,
   "metadata": {},
   "outputs": [],
   "source": [
    "author = books[[\"Author\"]]"
   ]
  },
  {
   "cell_type": "code",
   "execution_count": 15,
   "metadata": {},
   "outputs": [],
   "source": [
    "author[\"firstName\"] = author[\"Author\"].str.split()"
   ]
  },
  {
   "cell_type": "code",
   "execution_count": 20,
   "metadata": {},
   "outputs": [],
   "source": [
    "first_names = []\n",
    "last_names = []\n",
    "for name in author[\"Author\"]:\n",
    "    first_names.append(name.split()[0])\n",
    "    last_names.append(name.split()[1])\n",
    "\n",
    "author[\"firstName\"] = first_names\n",
    "author[\"lastName\"] = last_names"
   ]
  },
  {
   "cell_type": "code",
   "execution_count": 22,
   "metadata": {},
   "outputs": [
    {
     "output_type": "execute_result",
     "data": {
      "text/plain": [
       "                                               Author firstName    lastName\n",
       "9                     Nicholas Kristof; Sheryl WuDunn  Nicholas    Kristof;\n",
       "29                   Michael Alexander; Dick Kusleika   Michael  Alexander;\n",
       "81                      Jennifer Kyrnin; Julie Meloni  Jennifer     Kyrnin;\n",
       "83                         Paul Deitel; Harvey Deitel      Paul     Deitel;\n",
       "84           O.J. Dahl; E.W. Dijkstra; C. A. R. Hoare      O.J.       Dahl;\n",
       "87  Erich Gamma; Richard Helm; Ralph Johnson; John...     Erich      Gamma;"
      ],
      "text/html": "<div>\n<style scoped>\n    .dataframe tbody tr th:only-of-type {\n        vertical-align: middle;\n    }\n\n    .dataframe tbody tr th {\n        vertical-align: top;\n    }\n\n    .dataframe thead th {\n        text-align: right;\n    }\n</style>\n<table border=\"1\" class=\"dataframe\">\n  <thead>\n    <tr style=\"text-align: right;\">\n      <th></th>\n      <th>Author</th>\n      <th>firstName</th>\n      <th>lastName</th>\n    </tr>\n  </thead>\n  <tbody>\n    <tr>\n      <th>9</th>\n      <td>Nicholas Kristof; Sheryl WuDunn</td>\n      <td>Nicholas</td>\n      <td>Kristof;</td>\n    </tr>\n    <tr>\n      <th>29</th>\n      <td>Michael Alexander; Dick Kusleika</td>\n      <td>Michael</td>\n      <td>Alexander;</td>\n    </tr>\n    <tr>\n      <th>81</th>\n      <td>Jennifer Kyrnin; Julie Meloni</td>\n      <td>Jennifer</td>\n      <td>Kyrnin;</td>\n    </tr>\n    <tr>\n      <th>83</th>\n      <td>Paul Deitel; Harvey Deitel</td>\n      <td>Paul</td>\n      <td>Deitel;</td>\n    </tr>\n    <tr>\n      <th>84</th>\n      <td>O.J. Dahl; E.W. Dijkstra; C. A. R. Hoare</td>\n      <td>O.J.</td>\n      <td>Dahl;</td>\n    </tr>\n    <tr>\n      <th>87</th>\n      <td>Erich Gamma; Richard Helm; Ralph Johnson; John...</td>\n      <td>Erich</td>\n      <td>Gamma;</td>\n    </tr>\n  </tbody>\n</table>\n</div>"
     },
     "metadata": {},
     "execution_count": 22
    }
   ],
   "source": [
    "author.loc[author[\"Author\"].str.contains(\";\")]"
   ]
  },
  {
   "cell_type": "code",
   "execution_count": null,
   "metadata": {},
   "outputs": [],
   "source": []
  }
 ]
}